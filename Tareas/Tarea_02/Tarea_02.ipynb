{
  "nbformat": 4,
  "nbformat_minor": 0,
  "metadata": {
    "colab": {
      "provenance": []
    },
    "kernelspec": {
      "name": "python3",
      "display_name": "Python 3"
    },
    "language_info": {
      "name": "python"
    }
  },
  "cells": [
    {
      "cell_type": "markdown",
      "source": [
        "Ejercicio 1"
      ],
      "metadata": {
        "id": "XHHNFXqOjRyo"
      }
    },
    {
      "cell_type": "code",
      "source": [
        "for x in range(100):\n",
        "  print(x+1)"
      ],
      "metadata": {
        "colab": {
          "base_uri": "https://localhost:8080/"
        },
        "id": "seqfdqlmjUE2",
        "outputId": "f83f1aa9-96d2-4444-8e9b-c2f52a5a21ab"
      },
      "execution_count": null,
      "outputs": [
        {
          "output_type": "stream",
          "name": "stdout",
          "text": [
            "1\n",
            "2\n",
            "3\n",
            "4\n",
            "5\n",
            "6\n",
            "7\n",
            "8\n",
            "9\n",
            "10\n",
            "11\n",
            "12\n",
            "13\n",
            "14\n",
            "15\n",
            "16\n",
            "17\n",
            "18\n",
            "19\n",
            "20\n",
            "21\n",
            "22\n",
            "23\n",
            "24\n",
            "25\n",
            "26\n",
            "27\n",
            "28\n",
            "29\n",
            "30\n",
            "31\n",
            "32\n",
            "33\n",
            "34\n",
            "35\n",
            "36\n",
            "37\n",
            "38\n",
            "39\n",
            "40\n",
            "41\n",
            "42\n",
            "43\n",
            "44\n",
            "45\n",
            "46\n",
            "47\n",
            "48\n",
            "49\n",
            "50\n",
            "51\n",
            "52\n",
            "53\n",
            "54\n",
            "55\n",
            "56\n",
            "57\n",
            "58\n",
            "59\n",
            "60\n",
            "61\n",
            "62\n",
            "63\n",
            "64\n",
            "65\n",
            "66\n",
            "67\n",
            "68\n",
            "69\n",
            "70\n",
            "71\n",
            "72\n",
            "73\n",
            "74\n",
            "75\n",
            "76\n",
            "77\n",
            "78\n",
            "79\n",
            "80\n",
            "81\n",
            "82\n",
            "83\n",
            "84\n",
            "85\n",
            "86\n",
            "87\n",
            "88\n",
            "89\n",
            "90\n",
            "91\n",
            "92\n",
            "93\n",
            "94\n",
            "95\n",
            "96\n",
            "97\n",
            "98\n",
            "99\n",
            "100\n"
          ]
        }
      ]
    },
    {
      "cell_type": "markdown",
      "source": [
        "Ejercicio 2"
      ],
      "metadata": {
        "id": "42cui6MukQE2"
      }
    },
    {
      "cell_type": "code",
      "source": [
        "for x in range(100):\n",
        "\n",
        "  if(x+1) % 3 == 0:\n",
        "    print(x+1)"
      ],
      "metadata": {
        "colab": {
          "base_uri": "https://localhost:8080/"
        },
        "id": "0TbC5sy_kTkp",
        "outputId": "5c92e769-7ff2-44c0-c7b2-a26267de4180"
      },
      "execution_count": null,
      "outputs": [
        {
          "output_type": "stream",
          "name": "stdout",
          "text": [
            "3\n",
            "6\n",
            "9\n",
            "12\n",
            "15\n",
            "18\n",
            "21\n",
            "24\n",
            "27\n",
            "30\n",
            "33\n",
            "36\n",
            "39\n",
            "42\n",
            "45\n",
            "48\n",
            "51\n",
            "54\n",
            "57\n",
            "60\n",
            "63\n",
            "66\n",
            "69\n",
            "72\n",
            "75\n",
            "78\n",
            "81\n",
            "84\n",
            "87\n",
            "90\n",
            "93\n",
            "96\n",
            "99\n"
          ]
        }
      ]
    },
    {
      "cell_type": "markdown",
      "source": [
        "Ejercicio 3"
      ],
      "metadata": {
        "id": "cNvTrde4mWz_"
      }
    },
    {
      "cell_type": "code",
      "source": [
        "numero_1 = int(input(\"Ingresa un número\"))\n",
        "numero_2 = 5\n",
        "suma = numero_1 + numero_2\n",
        "resultado = \"\"\n",
        "\n",
        "if(suma<100):\n",
        "  resultado = \"menor a 100\"\n",
        "elif(suma>=100 and suma<150):\n",
        "  resultado = \"mayor a 100\"\n",
        "elif(suma>=150):\n",
        "  resultado = \"mayor a 150\"\n",
        "\n",
        "print(resultado)"
      ],
      "metadata": {
        "colab": {
          "base_uri": "https://localhost:8080/"
        },
        "id": "LHRIVNE9mY23",
        "outputId": "5a69d896-45f2-404e-ca33-4fdab7ea6f73"
      },
      "execution_count": null,
      "outputs": [
        {
          "output_type": "stream",
          "name": "stdout",
          "text": [
            "Ingresa un número150\n",
            "mayor a 150\n"
          ]
        }
      ]
    },
    {
      "cell_type": "markdown",
      "source": [
        "Ejercicio 4"
      ],
      "metadata": {
        "id": "Ch-dbfanqFzB"
      }
    },
    {
      "cell_type": "code",
      "source": [
        "edad = int(input())\n",
        "if edad >= 18:\n",
        "  print(\"bienvenido, eres mayor de edad\")\n",
        "  print(\"¿Te gusta programar?\")\n",
        "  a = input()\n",
        "  if a == \"si\":\n",
        "    print(\"Bien!, unete al grupo\")\n",
        "  if a != \"si\":\n",
        "    print(\"buuu aburrido!\")\n",
        "else:\n",
        "  print(\"no cumples con la edad necesaria\")"
      ],
      "metadata": {
        "colab": {
          "base_uri": "https://localhost:8080/"
        },
        "id": "6-JJajEiqIkf",
        "outputId": "dd7fae37-52aa-4851-8644-2547a917a446"
      },
      "execution_count": null,
      "outputs": [
        {
          "output_type": "stream",
          "name": "stdout",
          "text": [
            "32\n",
            "bienvenido, eres mayor de edad\n",
            "¿Te gusta programar?\n",
            "si\n",
            "Bien!, unete al grupo\n"
          ]
        }
      ]
    }
  ]
}